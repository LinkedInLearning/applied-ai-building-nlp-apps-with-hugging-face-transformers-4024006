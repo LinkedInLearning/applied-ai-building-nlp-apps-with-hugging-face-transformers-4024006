{
 "cells": [
  {
   "cell_type": "code",
   "execution_count": 1,
   "id": "9f7992af",
   "metadata": {},
   "outputs": [
    {
     "name": "stderr",
     "output_type": "stream",
     "text": [
      "/usr/local/python/3.12.1/lib/python3.12/site-packages/tqdm/auto.py:21: TqdmWarning: IProgress not found. Please update jupyter and ipywidgets. See https://ipywidgets.readthedocs.io/en/stable/user_install.html\n",
      "  from .autonotebook import tqdm as notebook_tqdm\n"
     ]
    }
   ],
   "source": [
    "import transformers\n",
    "\n",
    "#Set to avoid warning messages.\n",
    "transformers.logging.set_verbosity_error()"
   ]
  },
  {
   "cell_type": "markdown",
   "id": "848467ee",
   "metadata": {},
   "source": [
    "## 01.03. Using a Qu-An Pipeline"
   ]
  },
  {
   "cell_type": "code",
   "execution_count": 2,
   "id": "ac6163bf",
   "metadata": {},
   "outputs": [
    {
     "name": "stderr",
     "output_type": "stream",
     "text": [
      "2025-06-26 20:28:38.344181: I external/local_xla/xla/tsl/cuda/cudart_stub.cc:32] Could not find cuda drivers on your machine, GPU will not be used.\n",
      "2025-06-26 20:28:38.847312: I external/local_xla/xla/tsl/cuda/cudart_stub.cc:32] Could not find cuda drivers on your machine, GPU will not be used.\n",
      "2025-06-26 20:28:39.069281: E external/local_xla/xla/stream_executor/cuda/cuda_fft.cc:467] Unable to register cuFFT factory: Attempting to register factory for plugin cuFFT when one has already been registered\n",
      "WARNING: All log messages before absl::InitializeLog() is called are written to STDERR\n",
      "E0000 00:00:1750969719.415372    7789 cuda_dnn.cc:8579] Unable to register cuDNN factory: Attempting to register factory for plugin cuDNN when one has already been registered\n",
      "E0000 00:00:1750969719.526583    7789 cuda_blas.cc:1407] Unable to register cuBLAS factory: Attempting to register factory for plugin cuBLAS when one has already been registered\n",
      "W0000 00:00:1750969720.133349    7789 computation_placer.cc:177] computation placer already registered. Please check linkage and avoid linking the same target more than once.\n",
      "W0000 00:00:1750969720.133378    7789 computation_placer.cc:177] computation placer already registered. Please check linkage and avoid linking the same target more than once.\n",
      "W0000 00:00:1750969720.133381    7789 computation_placer.cc:177] computation placer already registered. Please check linkage and avoid linking the same target more than once.\n",
      "W0000 00:00:1750969720.133384    7789 computation_placer.cc:177] computation placer already registered. Please check linkage and avoid linking the same target more than once.\n",
      "2025-06-26 20:28:40.211456: I tensorflow/core/platform/cpu_feature_guard.cc:210] This TensorFlow binary is optimized to use available CPU instructions in performance-critical operations.\n",
      "To enable the following instructions: AVX2 FMA, in other operations, rebuild TensorFlow with the appropriate compiler flags.\n"
     ]
    },
    {
     "name": "stdout",
     "output_type": "stream",
     "text": [
      "{'score': 0.9553402066230774, 'start': 327, 'end': 330, 'answer': '29%'}\n"
     ]
    }
   ],
   "source": [
    "from transformers import pipeline\n",
    "\n",
    "context=\"\"\"\n",
    "Earth is the third planet from the Sun and the only astronomical object \n",
    "known to harbor life. While large volumes of water can be found \n",
    "throughout the Solar System, only Earth sustains liquid surface water. \n",
    "About 71% of Earth's surface is made up of the ocean, dwarfing \n",
    "Earth's polar ice, lakes, and rivers. The remaining 29% of Earth's \n",
    "surface is land, consisting of continents and islands. \n",
    "Earth's surface layer is formed of several slowly moving tectonic plates, \n",
    "interacting to produce mountain ranges, volcanoes, and earthquakes. \n",
    "Earth's liquid outer core generates the magnetic field that shapes Earth's \n",
    "magnetosphere, deflecting destructive solar winds.\n",
    "\"\"\"\n",
    "\n",
    "quan_pipeline = pipeline(\"question-answering\", \n",
    "                         model=\"deepset/minilm-uncased-squad2\")\n",
    "\n",
    "answer=quan_pipeline(question=\"How much of earth is land?\",\n",
    "             context=context)\n",
    "print(answer)\n",
    "\n"
   ]
  },
  {
   "cell_type": "code",
   "execution_count": 3,
   "id": "bb71eb82",
   "metadata": {},
   "outputs": [
    {
     "name": "stdout",
     "output_type": "stream",
     "text": [
      "\n",
      "Another question :\n",
      "{'score': 0.26154062151908875, 'start': 399, 'end': 471, 'answer': \"Earth's surface layer is formed of several slowly moving tectonic plates\"}\n"
     ]
    }
   ],
   "source": [
    "print(\"\\nAnother question :\")\n",
    "print(quan_pipeline( question=\"How are mountain ranges created?\",\n",
    "             context=context))"
   ]
  },
  {
   "cell_type": "markdown",
   "id": "c7999e87",
   "metadata": {},
   "source": [
    "## 01.05 Evaluating Qu-An Performance"
   ]
  },
  {
   "cell_type": "code",
   "execution_count": 5,
   "id": "c11d8e01",
   "metadata": {},
   "outputs": [
    {
     "name": "stdout",
     "output_type": "stream",
     "text": [
      "F1 is 100.0  for answer : Paris\n",
      "F1 is 0.0  for answer : London\n",
      "F1 is 22.22222222222222  for answer : Paris is one of the best cities in the world\n",
      "\n",
      " Cumulative Results : \n",
      " {'exact': 33.333333333333336, 'f1': 40.74074074074074, 'total': 3, 'HasAns_exact': 33.333333333333336, 'HasAns_f1': 40.74074074074074, 'HasAns_total': 3, 'best_exact': 33.333333333333336, 'best_exact_thresh': 0.0, 'best_f1': 40.74074074074074, 'best_f1_thresh': 0.0}\n"
     ]
    }
   ],
   "source": [
    "from evaluate import load\n",
    "squad_metric = load(\"squad_v2\")\n",
    "\n",
    "#Ignoring Context & Question as they are not needed for evaluation\n",
    "#This example is to showcase how the evaluation works based on match between the prediction\n",
    "#and the correct answer\n",
    "\n",
    "correct_answer=\"Paris\"\n",
    "\n",
    "predicted_answers=[\"Paris\",\n",
    "                 \"London\",\n",
    "                 \"Paris is one of the best cities in the world\"]\n",
    "\n",
    "cum_predictions=[]\n",
    "cum_references=[]\n",
    "for i in range(len(predicted_answers)):\n",
    "    \n",
    "    #Use the input format for predictions\n",
    "    predictions = [{'prediction_text':predicted_answers[i], \n",
    "                    'id': str(i),\n",
    "                    'no_answer_probability': 0.}]\n",
    "    cum_predictions.append(predictions[0])\n",
    "    \n",
    "    #Use the input format for naswers\n",
    "    references = [{'answers': {'answer_start': [1], \n",
    "                               'text': [correct_answer]}, \n",
    "                   'id': str(i)}]\n",
    "    cum_references.append(references[0])\n",
    "\n",
    "    results = squad_metric.compute(predictions=predictions,references=references)\n",
    "    print(\"F1 is\", results.get('f1'), \" for answer :\", predicted_answers[i])\n",
    "    \n",
    "#Compute for cumulative Results\n",
    "cum_results=squad_metric.compute(predictions=cum_predictions,references=cum_references)\n",
    "print(\"\\n Cumulative Results : \\n\",cum_results)"
   ]
  },
  {
   "cell_type": "code",
   "execution_count": null,
   "id": "e55d5988",
   "metadata": {},
   "outputs": [],
   "source": []
  }
 ],
 "metadata": {
  "kernelspec": {
   "display_name": "Python 3",
   "language": "python",
   "name": "python3"
  },
  "language_info": {
   "codemirror_mode": {
    "name": "ipython",
    "version": 3
   },
   "file_extension": ".py",
   "mimetype": "text/x-python",
   "name": "python",
   "nbconvert_exporter": "python",
   "pygments_lexer": "ipython3",
   "version": "3.12.1"
  }
 },
 "nbformat": 4,
 "nbformat_minor": 5
}
